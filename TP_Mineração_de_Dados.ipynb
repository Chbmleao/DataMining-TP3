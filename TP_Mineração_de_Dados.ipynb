{
  "cells": [
    {
      "cell_type": "markdown",
      "metadata": {
        "id": "2z-yJF6TObCw"
      },
      "source": [
        "# **Proposta de Trabalho - Mineração de dados**\n",
        "\n",
        "### **Professores:** Wagner Meira Jr./Pedro Calais\n",
        "### **Alunos:** Carlos Henrique Brito Malta Leão/Vinícius Alves de Faria Resende \n",
        "### **Matrículas:** 2021039794/2021039972\n",
        "\n",
        "\n",
        "### **Tema:** ENEM 2022: O Impacto das Características Socioeconômicas no Desempenho dos Candidatos\n",
        "### **Base de dados:** https://www.gov.br/inep/pt-br/acesso-a-informacao/dados-abertos/microdados/enem\n"
      ]
    },
    {
      "cell_type": "code",
      "execution_count": 210,
      "metadata": {
        "id": "EK8yf-vgJqkL"
      },
      "outputs": [],
      "source": []
    },
    {
      "cell_type": "markdown",
      "metadata": {
        "id": "ckPkUM8AJeMl"
      },
      "source": [
        "## 2. Data understanding (Entendimento dos dados)\n",
        "\n",
        "### Resumo da Fase\n",
        "A primeira fase do projeto é a \"Data Understanding,\" que se concentra na coleta e compreensão inicial dos dados. Esta fase é essencial para estabelecer uma base sólida para análises posteriores e identificar possíveis desafios.\n"
      ]
    },
    {
      "cell_type": "markdown",
      "metadata": {
        "id": "YBK0Ro38J8kF"
      },
      "source": [
        "## 3. Data preparation (Preparação dos dados)"
      ]
    },
    {
      "cell_type": "markdown",
      "metadata": {},
      "source": [
        "## 4. Modeling (Modelagem)\n",
        "\n",
        "1.   Explicar brevemente como você elaborou o modelo para o seus dados.\n",
        "2.   Se a intenção for fazer uma análise comparativa entre algorimtmos criar células markdown ou comentários explicitando onde começa o código referente a cada algoritmo.\n",
        "3. Explicar (quando pertinente) o fluxo de dados, ou seja como você organizou os dados em treino e teste, como foi o ajuste de parâmetros e eventuais decisões de projeto referentes a modelagem de dados. **Que ajudem a compreender o código.**\n",
        "\n",
        "O relatório deverá conter essas informações, mas sob a **perspectiva do projeto de dados**"
      ]
    },
    {
      "cell_type": "markdown",
      "metadata": {
        "id": "F1UAOjMXMfrg"
      },
      "source": [
        "## 5. Evaluation (Validação)\n"
      ]
    }
  ],
  "metadata": {
    "colab": {
      "provenance": []
    },
    "kernelspec": {
      "display_name": "Python 3",
      "name": "python3"
    },
    "language_info": {
      "codemirror_mode": {
        "name": "ipython",
        "version": 3
      },
      "file_extension": ".py",
      "mimetype": "text/x-python",
      "name": "python",
      "nbconvert_exporter": "python",
      "pygments_lexer": "ipython3",
      "version": "3.10.12"
    }
  },
  "nbformat": 4,
  "nbformat_minor": 0
}
